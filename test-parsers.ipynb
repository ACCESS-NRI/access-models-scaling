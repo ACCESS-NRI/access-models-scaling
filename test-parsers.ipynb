{
 "cells": [
  {
   "cell_type": "code",
   "execution_count": null,
   "id": "fa1c15a9-0ea4-4052-8a17-2507e04de9ef",
   "metadata": {},
   "outputs": [],
   "source": [
    "%load_ext autoreload\n",
    "%autoreload 2"
   ]
  },
  {
   "cell_type": "markdown",
   "id": "53a3fc43",
   "metadata": {},
   "source": [
    "# ESM1.6 Scaling\n",
    "\n",
    "End-to-end pipeline generating scaling plots for ESM1.6 Pre-industrial configuration."
   ]
  },
  {
   "cell_type": "markdown",
   "id": "b36e1716",
   "metadata": {},
   "source": [
    "## Setup\n",
    "The following variables control where the configurations and model run outputs are saved."
   ]
  },
  {
   "cell_type": "code",
   "execution_count": null,
   "id": "7eb8305c",
   "metadata": {},
   "outputs": [],
   "source": [
    "import os\n",
    "import getpass\n",
    "username = getpass.getuser()\n",
    "defaultproject = os.environ.get(\"PROJECT\")\n",
    "\n",
    "# CHANGE test_path to where you're comfortable dumping model run information\n",
    "test_path = f\"/scratch/{defaultproject}/{username}/access_models_scaling_results\"\n",
    "\n",
    "# Name of the experiment\n",
    "model_type = \"access-esm1.6\"\n",
    "test_path = f\"{model_type}_scaling_layouts\"\n",
    "repository_directory = f\"{model_type}-PI-config\"\n"
   ]
  },
  {
   "cell_type": "markdown",
   "id": "a6ee3214",
   "metadata": {},
   "source": [
    "## Generate experiments\n",
    "\n",
    "We will perform a simple scaling study, varying the total number of nodes used over [0.5, 1.0, 2.0, 4.0], i.e., we will run the model with 52. 104, 208 and 416 cores."
   ]
  },
  {
   "cell_type": "code",
   "execution_count": null,
   "id": "0a7d6f8b-b674-4d26-a5a3-e4e9d384d0fd",
   "metadata": {},
   "outputs": [],
   "source": [
    "def get_node_configs():\n",
    "    from access.config.esm1p6_layout_input import LayoutSearchConfig\n",
    "\n",
    "    # num_nodes_list = [0.5, 1.0, 2.0, 3.0, 4.0, 4.0]\n",
    "    # tol_around_ctrl_ratio = [0.05]*len(num_nodes_list)\n",
    "    # tol_around_ctrl_ratio[-1] = None # For the last 4-node config, allow to solve for other layouts using the defaults\n",
    "    # max_wasted_ncores_frac=[0.1 if x <= 1 else 0.05 if x <=3 else 0.02 for x in num_nodes_list]\n",
    "    # scaling_configs = [LayoutSearchConfig(tol_around_ctrl_ratio=t, max_wasted_ncores_frac=m) for t, m in zip(tol_around_ctrl_ratio, max_wasted_ncores_frac)]\n",
    "\n",
    "    num_nodes_list = [4.0]\n",
    "    tol_around_ctrl_ratio = [0.05]*len(num_nodes_list)\n",
    "    tol_around_ctrl_ratio[-1] = None # For the last 4-node config, allow to solve for other layouts using the defaults\n",
    "    max_wasted_ncores_frac=[0.1 if x <= 1 else 0.05 if x <=3 else 0.02 for x in num_nodes_list]\n",
    "    scaling_configs = [LayoutSearchConfig(tol_around_ctrl_ratio=t, max_wasted_ncores_frac=m) for t, m in zip(tol_around_ctrl_ratio, max_wasted_ncores_frac)]\n",
    "\n",
    "\n",
    "    return num_nodes_list, scaling_configs\n"
   ]
  },
  {
   "cell_type": "code",
   "execution_count": null,
   "id": "95006186",
   "metadata": {},
   "outputs": [],
   "source": [
    "\n",
    "def generate_esm1p6_layouts() -> str:\n",
    "    import sys\n",
    "\n",
    "    from access.config.esm1p6_layout_input import generate_esm1p6_core_layouts_from_node_count, generate_esm1p6_perturb_block\n",
    "\n",
    "    control_expriment_name = \"Control_Experiment\"\n",
    "    generator_config_prefix = f\"\"\"\n",
    "model_type: {model_type}\n",
    "repository_url: git@github.com:ACCESS-NRI/{model_type}-configs.git\n",
    "start_point: 1ebd393 # the commit hash that access-bot refers to when committing the new checksums\n",
    "\n",
    "test_path: {test_path}\n",
    "repository_directory: {repository_directory}\n",
    "\n",
    "control_branch_name: ctrl\n",
    "\n",
    "{control_expriment_name}:\n",
    "    config.yaml:\n",
    "        walltime: Inf\n",
    "        modules:\n",
    "            use:\n",
    "                - /g/data/{defaultproject}/{username}/spack/0.22/release/modules/linux-rocky8-x86_64_v4\n",
    "            load:\n",
    "                - access-esm1p6/2025.09.002\n",
    "\n",
    "        manifest:\n",
    "            reproduce:\n",
    "                exe: False    # cice5 has to be manually compiled because the runtime core counts is set at compile time\n",
    "        repeat: True\n",
    "        runspersub: 10\n",
    "\n",
    "Perturbation_Experiment:\n",
    "\"\"\"\n",
    "\n",
    "    blocknum = 1\n",
    "    queue = \"normalsr\"\n",
    "    branch_name_prefix = \"esm1p6-layout\"\n",
    "    entire_block = generator_config_prefix\n",
    "    num_nodes_list, scaling_configs = get_node_configs()\n",
    "    # num_nodes_list = [4.0]\n",
    "    # from access.config.esm1p6_layout_input import LayoutSearchConfig\n",
    "    # scaling_configs = [LayoutSearchConfig(tol_around_ctrl_ratio=None, max_wasted_ncores_frac=0.02)]*len(num_nodes_list)\n",
    "\n",
    "    seen_layouts = set()\n",
    "    walltime_hrs = 0.0\n",
    "    for num_nodes, config in zip(num_nodes_list, scaling_configs, strict=True):\n",
    "        layout = generate_esm1p6_core_layouts_from_node_count(\n",
    "            num_nodes,\n",
    "            queue=queue,\n",
    "            layout_search_config=config,\n",
    "        )[0]\n",
    "        if not layout:\n",
    "            print(f\"No layouts found for {num_nodes} nodes\", file=sys.stderr)\n",
    "            continue\n",
    "\n",
    "        layout = [x for x in layout if x not in seen_layouts]\n",
    "        seen_layouts.update(layout)\n",
    "        print(f\"Generated {len(layout)} layouts for {num_nodes} nodes. Layouts: {layout}\")\n",
    "\n",
    "        branch_name = f\"{branch_name_prefix}-unused-cores-to-cice-{config.allocate_unused_cores_to_ice}\"\n",
    "        prev_blocknum = blocknum\n",
    "        block, blocknum = generate_esm1p6_perturb_block(\n",
    "            num_nodes, layout, branch_name, queue=queue, start_blocknum=blocknum,\n",
    "        )\n",
    "        nblocks_added = blocknum - prev_blocknum\n",
    "        walltime_hrs += nblocks_added * (1.5 * 4.0/num_nodes) # use a 1.5 hrs time for 4-node runs, and then scale linearly\n",
    "        entire_block += block\n",
    "\n",
    "    entire_block = entire_block.replace(\"walltime: Inf\", f\"walltime: {int(walltime_hrs)}:00:00\")\n",
    "\n",
    "    return entire_block"
   ]
  },
  {
   "cell_type": "code",
   "execution_count": null,
   "id": "e2d2cf85",
   "metadata": {},
   "outputs": [],
   "source": [
    "from experiment_generator.experiment_generator import ExperimentGenerator\n",
    "from ruamel.yaml import YAML\n",
    "\n",
    "ryaml = YAML()\n",
    "ryaml.preserve_quotes = True\n",
    "\n",
    "generator_config = generate_esm1p6_layouts()\n",
    "config_dict = ryaml.load(generator_config)\n",
    "expgen = ExperimentGenerator(config_dict)\n",
    "expgen.run()"
   ]
  },
  {
   "cell_type": "markdown",
   "id": "a88709f0",
   "metadata": {},
   "source": [
    "## Running the model\n",
    "\n",
    "Next we create a runner config and run the experiments with `experiment-runner`."
   ]
  },
  {
   "cell_type": "code",
   "execution_count": null,
   "id": "273b5b08",
   "metadata": {},
   "outputs": [],
   "source": [
    "config_yaml_name=\"esm1p6_layout_input_config.yaml\"\n",
    "with open(config_yaml_name, \"w\") as f:\n",
    "    f.write(generator_config)\n",
    "print(f\"Generator config written to {config_yaml_name}\")"
   ]
  },
  {
   "cell_type": "code",
   "execution_count": null,
   "id": "952ff319-1a32-4e09-8dd4-c138d8814393",
   "metadata": {},
   "outputs": [],
   "source": [
    "from experiment_runner.experiment_runner import ExperimentRunner\n",
    "\n",
    "pe_expts = config_dict[\"Perturbation_Experiment\"]\n",
    "all_branches = [x for k in pe_expts for x in pe_expts[k][\"branches\"]]    \n",
    "\n",
    "runner_config = {\n",
    "    \"test_path\": test_path,\n",
    "    \"repository_directory\": repository_directory,\n",
    "    # these branches need to match branches in the experiment generator config above.\n",
    "    \"running_branches\": all_branches,\n",
    "    \"keep_uuid\": True,\n",
    "    \"nruns\": [3]*len(all_branches),\n",
    "    \"startfrom_restart\": [\"cold\"]*len(all_branches),\n",
    "}\n",
    "\n",
    "# Run the experiment runner\n",
    "ExperimentRunner(runner_config).run()"
   ]
  },
  {
   "cell_type": "markdown",
   "id": "409cbb42",
   "metadata": {},
   "source": [
    "## Parsing and plotting experiment results\n",
    "\n",
    "We'll use the profiling parsers in access-profiling to do this."
   ]
  },
  {
   "cell_type": "code",
   "execution_count": null,
   "id": "fbd2c763",
   "metadata": {},
   "outputs": [],
   "source": [
    "# Start by processing FMS (MOM5) results\n",
    "from access.profiling import FMSProfilingParser\n",
    "from access.profiling import PayuJSONProfilingParser\n",
    "fmsparser = FMSProfilingParser(has_hits=False)\n",
    "payuparser = PayuJSONProfilingParser()"
   ]
  },
  {
   "cell_type": "code",
   "execution_count": null,
   "id": "dffc427b",
   "metadata": {},
   "outputs": [],
   "source": [
    "# Processing logs\n",
    "from pathlib import Path\n",
    "import glob\n",
    "\n",
    "fmslogs = []\n",
    "payulogs = []\n",
    "for nnodes in (1, 2, 4, 8):\n",
    "    archive_dir = f\"{test_path}/{nnodes}nodes/esm1.6_PI_Concentrations/archive\"\n",
    "    with open(archive_dir + \"/output000/access-esm1.6.out\", \"r\") as f:\n",
    "        fmslogs.append(f.read())\n",
    "    payulog = glob.glob(archive_dir + \"/payu_jobs/0/run/*.gadi-pbs.json\")[0]\n",
    "    with open(payulog, \"r\") as f:\n",
    "        payulogs.append(f.read())"
   ]
  },
  {
   "cell_type": "code",
   "execution_count": null,
   "id": "a515f649",
   "metadata": {},
   "outputs": [],
   "source": [
    "mom5_stats = fmsparser.parse_data_series(\n",
    "    fmslogs,\n",
    "    \"ncpus\",\n",
    "    [104, 208, 416, 832]\n",
    ")\n",
    "mom5_stats"
   ]
  },
  {
   "cell_type": "code",
   "execution_count": null,
   "id": "639bb609",
   "metadata": {},
   "outputs": [],
   "source": [
    "payu_stats = payuparser.parse_data_series(\n",
    "    payulogs,\n",
    "    \"ncpus\",\n",
    "    [104, 208, 416, 832]\n",
    ")\n",
    "payu_stats.region"
   ]
  },
  {
   "cell_type": "code",
   "execution_count": null,
   "id": "0ed6a7a4",
   "metadata": {},
   "outputs": [],
   "source": [
    "from access.profiling.scaling import plot_scaling_metrics\n",
    "from access.profiling.metrics import tmax\n",
    "\n",
    "# plots the Ocean region and tmax metric from the FMS stats, and\n",
    "# payu_model_run_duration_seconds region and walltime metric from payu stats.\n",
    "plot_scaling_metrics(\n",
    "    stats=[mom5_stats, payu_stats],\n",
    "    regions=[\n",
    "        [\"Ocean\"],\n",
    "        [\"payu_model_run_duration_seconds\"]\n",
    "    ],\n",
    "    metric=tmax,\n",
    ")"
   ]
  }
 ],
 "metadata": {
  "kernelspec": {
   "display_name": "Python 3",
   "language": "python",
   "name": "python3"
  },
  "language_info": {
   "codemirror_mode": {
    "name": "ipython",
    "version": 3
   },
   "file_extension": ".py",
   "mimetype": "text/x-python",
   "name": "python",
   "nbconvert_exporter": "python",
   "pygments_lexer": "ipython3",
   "version": "3.12.1"
  }
 },
 "nbformat": 4,
 "nbformat_minor": 5
}
